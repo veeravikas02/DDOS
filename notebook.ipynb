{
 "cells": [
  {
   "cell_type": "code",
   "execution_count": 1,
   "metadata": {},
   "outputs": [],
   "source": [
    "import pandas as pd\n",
    "import numpy as np\n",
    "from sklearn.model_selection import train_test_split\n",
    "from sklearn.linear_model import LogisticRegression\n",
    "from sklearn.ensemble import RandomForestClassifier\n",
    "from sklearn.svm import SVC\n",
    "from sklearn.neighbors import KNeighborsClassifier\n",
    "from sklearn.metrics import accuracy_score\n"
   ]
  },
  {
   "cell_type": "code",
   "execution_count": 2,
   "metadata": {},
   "outputs": [],
   "source": [
    "normal_dataframe = pd.read_csv('normal_traffic.csv')\n",
    "attack_dataframe = pd.read_csv('attack_traffic.csv')"
   ]
  },
  {
   "cell_type": "code",
   "execution_count": 3,
   "metadata": {},
   "outputs": [
    {
     "data": {
      "text/html": [
       "<div>\n",
       "<style scoped>\n",
       "    .dataframe tbody tr th:only-of-type {\n",
       "        vertical-align: middle;\n",
       "    }\n",
       "\n",
       "    .dataframe tbody tr th {\n",
       "        vertical-align: top;\n",
       "    }\n",
       "\n",
       "    .dataframe thead th {\n",
       "        text-align: right;\n",
       "    }\n",
       "</style>\n",
       "<table border=\"1\" class=\"dataframe\">\n",
       "  <thead>\n",
       "    <tr style=\"text-align: right;\">\n",
       "      <th></th>\n",
       "      <th>Source_IP</th>\n",
       "      <th>Destination_IP</th>\n",
       "      <th>Source_Port</th>\n",
       "      <th>Destination_Port</th>\n",
       "      <th>Protocol</th>\n",
       "      <th>Packet_Size</th>\n",
       "    </tr>\n",
       "  </thead>\n",
       "  <tbody>\n",
       "    <tr>\n",
       "      <th>0</th>\n",
       "      <td>238.227.123.224</td>\n",
       "      <td>175.180.107.118</td>\n",
       "      <td>50960</td>\n",
       "      <td>39289</td>\n",
       "      <td>UDP</td>\n",
       "      <td>644</td>\n",
       "    </tr>\n",
       "    <tr>\n",
       "      <th>1</th>\n",
       "      <td>84.62.199.55</td>\n",
       "      <td>246.53.113.120</td>\n",
       "      <td>18037</td>\n",
       "      <td>64138</td>\n",
       "      <td>TCP</td>\n",
       "      <td>876</td>\n",
       "    </tr>\n",
       "    <tr>\n",
       "      <th>2</th>\n",
       "      <td>152.186.100.185</td>\n",
       "      <td>232.127.27.212</td>\n",
       "      <td>55692</td>\n",
       "      <td>11000</td>\n",
       "      <td>UDP</td>\n",
       "      <td>862</td>\n",
       "    </tr>\n",
       "    <tr>\n",
       "      <th>3</th>\n",
       "      <td>230.69.218.3</td>\n",
       "      <td>208.142.12.59</td>\n",
       "      <td>2191</td>\n",
       "      <td>52264</td>\n",
       "      <td>UDP</td>\n",
       "      <td>915</td>\n",
       "    </tr>\n",
       "    <tr>\n",
       "      <th>4</th>\n",
       "      <td>93.25.49.42</td>\n",
       "      <td>23.160.236.132</td>\n",
       "      <td>46088</td>\n",
       "      <td>28072</td>\n",
       "      <td>UDP</td>\n",
       "      <td>717</td>\n",
       "    </tr>\n",
       "  </tbody>\n",
       "</table>\n",
       "</div>"
      ],
      "text/plain": [
       "         Source_IP   Destination_IP  Source_Port  Destination_Port Protocol  \\\n",
       "0  238.227.123.224  175.180.107.118        50960             39289      UDP   \n",
       "1     84.62.199.55   246.53.113.120        18037             64138      TCP   \n",
       "2  152.186.100.185   232.127.27.212        55692             11000      UDP   \n",
       "3     230.69.218.3    208.142.12.59         2191             52264      UDP   \n",
       "4      93.25.49.42   23.160.236.132        46088             28072      UDP   \n",
       "\n",
       "   Packet_Size  \n",
       "0          644  \n",
       "1          876  \n",
       "2          862  \n",
       "3          915  \n",
       "4          717  "
      ]
     },
     "execution_count": 3,
     "metadata": {},
     "output_type": "execute_result"
    }
   ],
   "source": [
    "normal_dataframe.head()"
   ]
  },
  {
   "cell_type": "code",
   "execution_count": 4,
   "metadata": {},
   "outputs": [
    {
     "data": {
      "text/html": [
       "<div>\n",
       "<style scoped>\n",
       "    .dataframe tbody tr th:only-of-type {\n",
       "        vertical-align: middle;\n",
       "    }\n",
       "\n",
       "    .dataframe tbody tr th {\n",
       "        vertical-align: top;\n",
       "    }\n",
       "\n",
       "    .dataframe thead th {\n",
       "        text-align: right;\n",
       "    }\n",
       "</style>\n",
       "<table border=\"1\" class=\"dataframe\">\n",
       "  <thead>\n",
       "    <tr style=\"text-align: right;\">\n",
       "      <th></th>\n",
       "      <th>Source_IP</th>\n",
       "      <th>Destination_IP</th>\n",
       "      <th>Source_Port</th>\n",
       "      <th>Destination_Port</th>\n",
       "      <th>Protocol</th>\n",
       "      <th>Packet_Size</th>\n",
       "    </tr>\n",
       "  </thead>\n",
       "  <tbody>\n",
       "    <tr>\n",
       "      <th>0</th>\n",
       "      <td>3.110.89.217</td>\n",
       "      <td>32.153.178.49</td>\n",
       "      <td>51539</td>\n",
       "      <td>16283</td>\n",
       "      <td>TCP</td>\n",
       "      <td>990</td>\n",
       "    </tr>\n",
       "    <tr>\n",
       "      <th>1</th>\n",
       "      <td>86.12.245.3</td>\n",
       "      <td>183.63.109.160</td>\n",
       "      <td>11862</td>\n",
       "      <td>61276</td>\n",
       "      <td>TCP</td>\n",
       "      <td>497</td>\n",
       "    </tr>\n",
       "    <tr>\n",
       "      <th>2</th>\n",
       "      <td>224.151.54.9</td>\n",
       "      <td>220.126.94.186</td>\n",
       "      <td>15578</td>\n",
       "      <td>54781</td>\n",
       "      <td>TCP</td>\n",
       "      <td>1033</td>\n",
       "    </tr>\n",
       "    <tr>\n",
       "      <th>3</th>\n",
       "      <td>89.214.35.174</td>\n",
       "      <td>167.51.167.203</td>\n",
       "      <td>47324</td>\n",
       "      <td>15275</td>\n",
       "      <td>UDP</td>\n",
       "      <td>882</td>\n",
       "    </tr>\n",
       "    <tr>\n",
       "      <th>4</th>\n",
       "      <td>134.157.185.76</td>\n",
       "      <td>40.200.193.163</td>\n",
       "      <td>15415</td>\n",
       "      <td>19749</td>\n",
       "      <td>TCP</td>\n",
       "      <td>592</td>\n",
       "    </tr>\n",
       "  </tbody>\n",
       "</table>\n",
       "</div>"
      ],
      "text/plain": [
       "        Source_IP  Destination_IP  Source_Port  Destination_Port Protocol  \\\n",
       "0    3.110.89.217   32.153.178.49        51539             16283      TCP   \n",
       "1     86.12.245.3  183.63.109.160        11862             61276      TCP   \n",
       "2    224.151.54.9  220.126.94.186        15578             54781      TCP   \n",
       "3   89.214.35.174  167.51.167.203        47324             15275      UDP   \n",
       "4  134.157.185.76  40.200.193.163        15415             19749      TCP   \n",
       "\n",
       "   Packet_Size  \n",
       "0          990  \n",
       "1          497  \n",
       "2         1033  \n",
       "3          882  \n",
       "4          592  "
      ]
     },
     "execution_count": 4,
     "metadata": {},
     "output_type": "execute_result"
    }
   ],
   "source": [
    "attack_dataframe.head()"
   ]
  },
  {
   "cell_type": "code",
   "execution_count": 5,
   "metadata": {},
   "outputs": [],
   "source": [
    "normal_dataframe['flag'] = [0 for _ in range(500)]\n",
    "attack_dataframe['flag'] = [1 for _ in range(500)]"
   ]
  },
  {
   "cell_type": "code",
   "execution_count": 6,
   "metadata": {},
   "outputs": [],
   "source": [
    "full_dataframe = pd.concat([normal_dataframe, attack_dataframe])"
   ]
  },
  {
   "cell_type": "code",
   "execution_count": 7,
   "metadata": {},
   "outputs": [
    {
     "data": {
      "text/plain": [
       "(1000, 7)"
      ]
     },
     "execution_count": 7,
     "metadata": {},
     "output_type": "execute_result"
    }
   ],
   "source": [
    "full_dataframe.shape"
   ]
  },
  {
   "cell_type": "code",
   "execution_count": 8,
   "metadata": {},
   "outputs": [],
   "source": [
    "from sklearn.utils import shuffle"
   ]
  },
  {
   "cell_type": "code",
   "execution_count": 9,
   "metadata": {},
   "outputs": [],
   "source": [
    "full_dataframe = shuffle(full_dataframe, random_state=42)"
   ]
  },
  {
   "cell_type": "code",
   "execution_count": 10,
   "metadata": {},
   "outputs": [
    {
     "data": {
      "text/html": [
       "<div>\n",
       "<style scoped>\n",
       "    .dataframe tbody tr th:only-of-type {\n",
       "        vertical-align: middle;\n",
       "    }\n",
       "\n",
       "    .dataframe tbody tr th {\n",
       "        vertical-align: top;\n",
       "    }\n",
       "\n",
       "    .dataframe thead th {\n",
       "        text-align: right;\n",
       "    }\n",
       "</style>\n",
       "<table border=\"1\" class=\"dataframe\">\n",
       "  <thead>\n",
       "    <tr style=\"text-align: right;\">\n",
       "      <th></th>\n",
       "      <th>Source_IP</th>\n",
       "      <th>Destination_IP</th>\n",
       "      <th>Source_Port</th>\n",
       "      <th>Destination_Port</th>\n",
       "      <th>Protocol</th>\n",
       "      <th>Packet_Size</th>\n",
       "      <th>flag</th>\n",
       "    </tr>\n",
       "  </thead>\n",
       "  <tbody>\n",
       "    <tr>\n",
       "      <th>21</th>\n",
       "      <td>130.27.205.209</td>\n",
       "      <td>84.58.52.17</td>\n",
       "      <td>7809</td>\n",
       "      <td>25167</td>\n",
       "      <td>TCP</td>\n",
       "      <td>791</td>\n",
       "      <td>1</td>\n",
       "    </tr>\n",
       "    <tr>\n",
       "      <th>237</th>\n",
       "      <td>177.91.14.135</td>\n",
       "      <td>129.225.114.198</td>\n",
       "      <td>16194</td>\n",
       "      <td>26621</td>\n",
       "      <td>UDP</td>\n",
       "      <td>711</td>\n",
       "      <td>1</td>\n",
       "    </tr>\n",
       "    <tr>\n",
       "      <th>240</th>\n",
       "      <td>244.82.28.193</td>\n",
       "      <td>114.56.109.168</td>\n",
       "      <td>58430</td>\n",
       "      <td>1793</td>\n",
       "      <td>UDP</td>\n",
       "      <td>781</td>\n",
       "      <td>1</td>\n",
       "    </tr>\n",
       "    <tr>\n",
       "      <th>160</th>\n",
       "      <td>102.93.218.117</td>\n",
       "      <td>42.20.29.17</td>\n",
       "      <td>38191</td>\n",
       "      <td>29724</td>\n",
       "      <td>TCP</td>\n",
       "      <td>683</td>\n",
       "      <td>1</td>\n",
       "    </tr>\n",
       "    <tr>\n",
       "      <th>411</th>\n",
       "      <td>61.151.182.37</td>\n",
       "      <td>103.122.129.22</td>\n",
       "      <td>15931</td>\n",
       "      <td>21399</td>\n",
       "      <td>UDP</td>\n",
       "      <td>731</td>\n",
       "      <td>0</td>\n",
       "    </tr>\n",
       "  </tbody>\n",
       "</table>\n",
       "</div>"
      ],
      "text/plain": [
       "          Source_IP   Destination_IP  Source_Port  Destination_Port Protocol  \\\n",
       "21   130.27.205.209      84.58.52.17         7809             25167      TCP   \n",
       "237   177.91.14.135  129.225.114.198        16194             26621      UDP   \n",
       "240   244.82.28.193   114.56.109.168        58430              1793      UDP   \n",
       "160  102.93.218.117      42.20.29.17        38191             29724      TCP   \n",
       "411   61.151.182.37   103.122.129.22        15931             21399      UDP   \n",
       "\n",
       "     Packet_Size  flag  \n",
       "21           791     1  \n",
       "237          711     1  \n",
       "240          781     1  \n",
       "160          683     1  \n",
       "411          731     0  "
      ]
     },
     "execution_count": 10,
     "metadata": {},
     "output_type": "execute_result"
    }
   ],
   "source": [
    "full_dataframe.head()"
   ]
  },
  {
   "cell_type": "code",
   "execution_count": 11,
   "metadata": {},
   "outputs": [],
   "source": [
    "def ip_to_int (x):\n",
    "    octets = list(map(int, x.split('.')))\n",
    "    return octets[0] * 256**3 + octets[1] * 256**2 + octets[2] * 256**1 + octets[3] * 256**0"
   ]
  },
  {
   "cell_type": "code",
   "execution_count": 12,
   "metadata": {},
   "outputs": [],
   "source": [
    "full_dataframe['Source_IP'] = full_dataframe['Source_IP'].apply(lambda x: ip_to_int(x))\n",
    "full_dataframe['Destination_IP'] = full_dataframe['Destination_IP'].apply(lambda x: ip_to_int(x))"
   ]
  },
  {
   "cell_type": "code",
   "execution_count": 14,
   "metadata": {},
   "outputs": [
    {
     "data": {
      "text/plain": [
       "['TCP', 'UDP']"
      ]
     },
     "execution_count": 14,
     "metadata": {},
     "output_type": "execute_result"
    }
   ],
   "source": [
    "full_dataframe['Protocol'].unique().tolist()"
   ]
  },
  {
   "cell_type": "code",
   "execution_count": 15,
   "metadata": {},
   "outputs": [],
   "source": [
    "protocol_encoder = {'TCP' : 0, 'UDP' : 1}"
   ]
  },
  {
   "cell_type": "code",
   "execution_count": 16,
   "metadata": {},
   "outputs": [],
   "source": [
    "full_dataframe['Protocol'] = full_dataframe['Protocol'].apply(lambda x : protocol_encoder[x])"
   ]
  },
  {
   "cell_type": "code",
   "execution_count": 17,
   "metadata": {},
   "outputs": [
    {
     "data": {
      "text/html": [
       "<div>\n",
       "<style scoped>\n",
       "    .dataframe tbody tr th:only-of-type {\n",
       "        vertical-align: middle;\n",
       "    }\n",
       "\n",
       "    .dataframe tbody tr th {\n",
       "        vertical-align: top;\n",
       "    }\n",
       "\n",
       "    .dataframe thead th {\n",
       "        text-align: right;\n",
       "    }\n",
       "</style>\n",
       "<table border=\"1\" class=\"dataframe\">\n",
       "  <thead>\n",
       "    <tr style=\"text-align: right;\">\n",
       "      <th></th>\n",
       "      <th>Source_IP</th>\n",
       "      <th>Destination_IP</th>\n",
       "      <th>Source_Port</th>\n",
       "      <th>Destination_Port</th>\n",
       "      <th>Protocol</th>\n",
       "      <th>Packet_Size</th>\n",
       "      <th>flag</th>\n",
       "    </tr>\n",
       "  </thead>\n",
       "  <tbody>\n",
       "    <tr>\n",
       "      <th>21</th>\n",
       "      <td>2182860241</td>\n",
       "      <td>1413100561</td>\n",
       "      <td>7809</td>\n",
       "      <td>25167</td>\n",
       "      <td>0</td>\n",
       "      <td>791</td>\n",
       "      <td>1</td>\n",
       "    </tr>\n",
       "    <tr>\n",
       "      <th>237</th>\n",
       "      <td>2975534727</td>\n",
       "      <td>2179035846</td>\n",
       "      <td>16194</td>\n",
       "      <td>26621</td>\n",
       "      <td>1</td>\n",
       "      <td>711</td>\n",
       "      <td>1</td>\n",
       "    </tr>\n",
       "    <tr>\n",
       "      <th>240</th>\n",
       "      <td>4099022017</td>\n",
       "      <td>1916300712</td>\n",
       "      <td>58430</td>\n",
       "      <td>1793</td>\n",
       "      <td>1</td>\n",
       "      <td>781</td>\n",
       "      <td>1</td>\n",
       "    </tr>\n",
       "    <tr>\n",
       "      <th>160</th>\n",
       "      <td>1717426805</td>\n",
       "      <td>705961233</td>\n",
       "      <td>38191</td>\n",
       "      <td>29724</td>\n",
       "      <td>0</td>\n",
       "      <td>683</td>\n",
       "      <td>1</td>\n",
       "    </tr>\n",
       "    <tr>\n",
       "      <th>411</th>\n",
       "      <td>1033352741</td>\n",
       "      <td>1736081686</td>\n",
       "      <td>15931</td>\n",
       "      <td>21399</td>\n",
       "      <td>1</td>\n",
       "      <td>731</td>\n",
       "      <td>0</td>\n",
       "    </tr>\n",
       "  </tbody>\n",
       "</table>\n",
       "</div>"
      ],
      "text/plain": [
       "      Source_IP  Destination_IP  Source_Port  Destination_Port  Protocol  \\\n",
       "21   2182860241      1413100561         7809             25167         0   \n",
       "237  2975534727      2179035846        16194             26621         1   \n",
       "240  4099022017      1916300712        58430              1793         1   \n",
       "160  1717426805       705961233        38191             29724         0   \n",
       "411  1033352741      1736081686        15931             21399         1   \n",
       "\n",
       "     Packet_Size  flag  \n",
       "21           791     1  \n",
       "237          711     1  \n",
       "240          781     1  \n",
       "160          683     1  \n",
       "411          731     0  "
      ]
     },
     "execution_count": 17,
     "metadata": {},
     "output_type": "execute_result"
    }
   ],
   "source": [
    "full_dataframe.head()"
   ]
  },
  {
   "cell_type": "code",
   "execution_count": 18,
   "metadata": {},
   "outputs": [],
   "source": [
    "X = full_dataframe.drop(['flag'], axis=1)\n",
    "Y = full_dataframe['flag']"
   ]
  },
  {
   "cell_type": "code",
   "execution_count": 19,
   "metadata": {},
   "outputs": [],
   "source": [
    "X_train, X_test, Y_train, Y_test = train_test_split(X, Y, test_size=0.2, random_state=23)"
   ]
  },
  {
   "cell_type": "code",
   "execution_count": 21,
   "metadata": {},
   "outputs": [
    {
     "data": {
      "text/plain": [
       "(800, 6)"
      ]
     },
     "execution_count": 21,
     "metadata": {},
     "output_type": "execute_result"
    }
   ],
   "source": [
    "X_train.shape"
   ]
  },
  {
   "cell_type": "code",
   "execution_count": 22,
   "metadata": {},
   "outputs": [],
   "source": [
    "import joblib\n",
    "def train_and_test_model(model : object, train_data: tuple, test_data: tuple, save: bool = False, model_name: str = 'default_model'):\n",
    "    x_train, y_train = train_data\n",
    "    x_test, y_test = test_data\n",
    "    clf = model\n",
    "    clf.fit(x_train, y_train)\n",
    "    y_pred = clf.predict(x_test)\n",
    "    acc = accuracy_score(y_test, y_pred)\n",
    "\n",
    "    if save:\n",
    "        joblib.dump(clf,f'{model_name}.joblib')\n",
    "    return acc\n",
    "\n",
    "    "
   ]
  },
  {
   "cell_type": "code",
   "execution_count": 23,
   "metadata": {},
   "outputs": [],
   "source": [
    "train_data = (X_train, Y_train)\n",
    "test_data = (X_test, Y_test)"
   ]
  },
  {
   "cell_type": "code",
   "execution_count": 24,
   "metadata": {},
   "outputs": [],
   "source": [
    "rf = RandomForestClassifier()\n",
    "lr = LogisticRegression()\n",
    "svc = SVC()\n",
    "knn = KNeighborsClassifier()"
   ]
  },
  {
   "cell_type": "code",
   "execution_count": 25,
   "metadata": {},
   "outputs": [
    {
     "data": {
      "text/plain": [
       "0.455"
      ]
     },
     "execution_count": 25,
     "metadata": {},
     "output_type": "execute_result"
    }
   ],
   "source": [
    "train_and_test_model(rf, train_data, test_data, save=True, model_name='Random_Forest')"
   ]
  },
  {
   "cell_type": "code",
   "execution_count": 26,
   "metadata": {},
   "outputs": [
    {
     "data": {
      "text/plain": [
       "0.515"
      ]
     },
     "execution_count": 26,
     "metadata": {},
     "output_type": "execute_result"
    }
   ],
   "source": [
    "train_and_test_model(lr, train_data, test_data, save=True, model_name='LogisticRegression')"
   ]
  },
  {
   "cell_type": "code",
   "execution_count": 27,
   "metadata": {},
   "outputs": [
    {
     "data": {
      "text/plain": [
       "0.52"
      ]
     },
     "execution_count": 27,
     "metadata": {},
     "output_type": "execute_result"
    }
   ],
   "source": [
    "train_and_test_model(svc, train_data, test_data, save=True, model_name='SVC')"
   ]
  },
  {
   "cell_type": "code",
   "execution_count": 28,
   "metadata": {},
   "outputs": [
    {
     "data": {
      "text/plain": [
       "0.575"
      ]
     },
     "execution_count": 28,
     "metadata": {},
     "output_type": "execute_result"
    }
   ],
   "source": [
    "train_and_test_model(knn, train_data, test_data, save=True, model_name='KNN')"
   ]
  },
  {
   "cell_type": "code",
   "execution_count": null,
   "metadata": {},
   "outputs": [],
   "source": []
  }
 ],
 "metadata": {
  "kernelspec": {
   "display_name": "Python 3",
   "language": "python",
   "name": "python3"
  },
  "language_info": {
   "codemirror_mode": {
    "name": "ipython",
    "version": 3
   },
   "file_extension": ".py",
   "mimetype": "text/x-python",
   "name": "python",
   "nbconvert_exporter": "python",
   "pygments_lexer": "ipython3",
   "version": "3.10.11"
  }
 },
 "nbformat": 4,
 "nbformat_minor": 2
}
